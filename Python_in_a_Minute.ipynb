{
  "nbformat": 4,
  "nbformat_minor": 0,
  "metadata": {
    "colab": {
      "name": "Python in a Minute.ipynb",
      "provenance": [],
      "private_outputs": true,
      "collapsed_sections": [],
      "include_colab_link": true
    },
    "kernelspec": {
      "name": "python3",
      "display_name": "Python 3"
    }
  },
  "cells": [
    {
      "cell_type": "markdown",
      "metadata": {
        "id": "view-in-github",
        "colab_type": "text"
      },
      "source": [
        "<a href=\"https://colab.research.google.com/github/trkonduri/handson-ml/blob/master/Python_in_a_Minute.ipynb\" target=\"_parent\"><img src=\"https://colab.research.google.com/assets/colab-badge.svg\" alt=\"Open In Colab\"/></a>"
      ]
    },
    {
      "cell_type": "markdown",
      "metadata": {
        "id": "pKS1-91DmQu7",
        "colab_type": "text"
      },
      "source": [
        "---\n",
        "[![Linkedin](https://content.linkedin.com/content/dam/brand/site/img/logo/logo-r.png =120x) Join group for discussion on Machine Learning](https://www.linkedin.com/groups/13570295) \n",
        "\n",
        "---\n",
        "# License\n",
        "Copyright © 2018, Rohit Sharma. Paripath Inc.\n",
        "\n",
        "This program is free software: you can redistribute it and/or modify it under the terms of the GNU General Public License as published by the Free Software Foundation, either version 3 of the License, or(at your option) any later version.\n",
        "\n",
        "This program is distributed in the hope that it will be useful, but WITHOUT ANY WARRANTY; without even the implied warranty of MERCHANTABILITY or FITNESS FOR A PARTICULAR PURPOSE.  See the [GNU General Public License](www.gnu.org/licenses/gpl-3.0.html) for more details."
      ]
    },
    {
      "cell_type": "markdown",
      "metadata": {
        "id": "4lxTEugemGKi",
        "colab_type": "toc"
      },
      "source": [
        ">[License](#scrollTo=pKS1-91DmQu7)\n",
        "\n",
        ">[Introduction](#scrollTo=XJP2UJYTgQdl)\n",
        "\n",
        ">[Basics](#scrollTo=QsN9fR1YfZaO)\n",
        "\n",
        ">>[Comments](#scrollTo=QsN9fR1YfZaO)\n",
        "\n",
        ">>[Numbers](#scrollTo=-dm6YzkDft03)\n",
        "\n",
        ">>[String](#scrollTo=-1Xm7AgRf5Zp)\n",
        "\n",
        ">>[None Object](#scrollTo=4_uiBSb4gI6L)\n",
        "\n",
        ">>[Type Casting](#scrollTo=XYwZAm3rgPVL)\n",
        "\n",
        ">>[Display](#scrollTo=XQq5kLhxgR91)\n",
        "\n",
        ">>[Arithmatic](#scrollTo=FSqWpVd6gZIc)\n",
        "\n",
        ">>[Comparision operators](#scrollTo=yFTLg_BsggoK)\n",
        "\n",
        ">[Statements](#scrollTo=kIMHPi4ZgxFZ)\n",
        "\n",
        ">>[If Statement](#scrollTo=kIMHPi4ZgxFZ)\n",
        "\n",
        ">>[Loops](#scrollTo=beQA0DA9g9vL)\n",
        "\n",
        ">>[Controlling Loops](#scrollTo=jM57KTIfhjOb)\n",
        "\n",
        ">[Data types](#scrollTo=1W3-BCTan0ZG)\n",
        "\n",
        ">>[List](#scrollTo=hnPA9NyCjfiN)\n",
        "\n",
        ">>[Tuple](#scrollTo=1r4In-DWjkFu)\n",
        "\n",
        ">>[Dictionary](#scrollTo=ONaz9gHXjl6J)\n",
        "\n",
        ">[Functions](#scrollTo=lU9_cn6vjuVR)\n",
        "\n",
        ">[Slicing](#scrollTo=17JvCRqEjxKt)\n",
        "\n",
        ">[Credit:](#scrollTo=D3n9BLpQlaTX)\n",
        "\n"
      ]
    },
    {
      "cell_type": "markdown",
      "metadata": {
        "id": "RX4XNQ2RmPu_",
        "colab_type": "text"
      },
      "source": [
        ""
      ]
    },
    {
      "cell_type": "markdown",
      "metadata": {
        "id": "XJP2UJYTgQdl",
        "colab_type": "text"
      },
      "source": [
        "# Introduction\n",
        "\n",
        "Python is \n",
        "strongly typed (i.e. types are enforced), dynamically, implicitly typed (i.e. you don’t have to declare variables), case sensitive (i.e. var and VAR are two different variables) and object-oriented (i.e. everything is an object).\n",
        "\n",
        "1. strongly typed (types are checked and enforced)\n",
        "2. implicitely typed (no declaration needed)\n",
        "3. case sensitive (python and PYTHON are two different variables)\n",
        "4. object oriented\n",
        "\n"
      ]
    },
    {
      "cell_type": "code",
      "metadata": {
        "id": "NDKvRhNqudZF",
        "colab_type": "code",
        "colab": {}
      },
      "source": [
        "help(14083727405); # Paripath phone number\n",
        "# returns Help on int object:"
      ],
      "execution_count": 0,
      "outputs": []
    },
    {
      "cell_type": "code",
      "metadata": {
        "id": "NoxwsgmgibEk",
        "colab_type": "code",
        "colab": {}
      },
      "source": [
        "# return string object's methods\n",
        "dir(\"www.paripath.com\");"
      ],
      "execution_count": 0,
      "outputs": []
    },
    {
      "cell_type": "code",
      "metadata": {
        "id": "B2isRuOli9mQ",
        "colab_type": "code",
        "colab": {}
      },
      "source": [
        "# inlined documentation on function len()\n",
        "len.__doc__"
      ],
      "execution_count": 0,
      "outputs": []
    },
    {
      "cell_type": "markdown",
      "metadata": {
        "id": "QsN9fR1YfZaO",
        "colab_type": "text"
      },
      "source": [
        "# Basics\n",
        "## Comments"
      ]
    },
    {
      "cell_type": "code",
      "metadata": {
        "id": "eFGHV9KyfchF",
        "colab_type": "code",
        "colab": {}
      },
      "source": [
        "# comments\n",
        "''' multiline comments '''"
      ],
      "execution_count": 0,
      "outputs": []
    },
    {
      "cell_type": "markdown",
      "metadata": {
        "id": "-dm6YzkDft03",
        "colab_type": "text"
      },
      "source": [
        "## Numbers"
      ]
    },
    {
      "cell_type": "code",
      "metadata": {
        "id": "uJstZCV0f1q2",
        "colab_type": "code",
        "colab": {}
      },
      "source": [
        "sample_int = 1\n",
        "sample_float = 3.14"
      ],
      "execution_count": 0,
      "outputs": []
    },
    {
      "cell_type": "markdown",
      "metadata": {
        "id": "-1Xm7AgRf5Zp",
        "colab_type": "text"
      },
      "source": [
        "## String"
      ]
    },
    {
      "cell_type": "code",
      "metadata": {
        "id": "ivJ__9Buf-ES",
        "colab_type": "code",
        "colab": {}
      },
      "source": [
        "str1 = \"This book\"; # double quotes\n",
        "str1 += ' is on Machine Intelligence.'; # single quotes"
      ],
      "execution_count": 0,
      "outputs": []
    },
    {
      "cell_type": "markdown",
      "metadata": {
        "id": "4_uiBSb4gI6L",
        "colab_type": "text"
      },
      "source": [
        "## None Object"
      ]
    },
    {
      "cell_type": "code",
      "metadata": {
        "id": "amnvL4f8gLOV",
        "colab_type": "code",
        "colab": {}
      },
      "source": [
        "errors = None ; # empty value"
      ],
      "execution_count": 0,
      "outputs": []
    },
    {
      "cell_type": "markdown",
      "metadata": {
        "id": "XYwZAm3rgPVL",
        "colab_type": "text"
      },
      "source": [
        "## Type Casting"
      ]
    },
    {
      "cell_type": "code",
      "metadata": {
        "id": "bBdmMTjMgRRp",
        "colab_type": "code",
        "colab": {}
      },
      "source": [
        "int_cast   = int(3.14)\n",
        "float_cast = float('2.71828')\n",
        "str_cast   = str(3.14)"
      ],
      "execution_count": 0,
      "outputs": []
    },
    {
      "cell_type": "markdown",
      "metadata": {
        "id": "XQq5kLhxgR91",
        "colab_type": "text"
      },
      "source": [
        "## Display"
      ]
    },
    {
      "cell_type": "code",
      "metadata": {
        "id": "8rOcNUiLgVQN",
        "colab_type": "code",
        "colab": {}
      },
      "source": [
        "print(\"This is me\")"
      ],
      "execution_count": 0,
      "outputs": []
    },
    {
      "cell_type": "markdown",
      "metadata": {
        "id": "FSqWpVd6gZIc",
        "colab_type": "text"
      },
      "source": [
        "## Arithmatic"
      ]
    },
    {
      "cell_type": "code",
      "metadata": {
        "id": "SFTUIItLgb21",
        "colab_type": "code",
        "colab": {}
      },
      "source": [
        "x = 2;       # assignment\n",
        "x = x + 2;   # addition\n",
        "x += 2;      # addition\n",
        "x = x-3;     # subtraction\n",
        "y = 3.14*x;  # multiplication\n",
        "y = y/2;     # division\n",
        "y = y%2;     # remaidner\n",
        "z = 2.71**2; # power"
      ],
      "execution_count": 0,
      "outputs": []
    },
    {
      "cell_type": "markdown",
      "metadata": {
        "id": "yFTLg_BsggoK",
        "colab_type": "text"
      },
      "source": [
        "## Comparision operators\n",
        "* equal ==\n",
        "* not equal !=\n",
        "* less <\n",
        "* less equal <=\n",
        "* greater >\n",
        "* greater equal >="
      ]
    },
    {
      "cell_type": "markdown",
      "metadata": {
        "id": "kIMHPi4ZgxFZ",
        "colab_type": "text"
      },
      "source": [
        "# Statements\n",
        "## If Statement"
      ]
    },
    {
      "cell_type": "code",
      "metadata": {
        "id": "gr7uAhIZg1H7",
        "colab_type": "code",
        "colab": {}
      },
      "source": [
        "if 'I am' == 'me':\n",
        "  print (\"me\")\n",
        "elif \"you\" == \"U\":\n",
        "\tprint (\"you\")\n",
        "else:\n",
        "\tprint (\"them\")"
      ],
      "execution_count": 0,
      "outputs": []
    },
    {
      "cell_type": "markdown",
      "metadata": {
        "id": "beQA0DA9g9vL",
        "colab_type": "text"
      },
      "source": [
        "## Loops"
      ]
    },
    {
      "cell_type": "code",
      "metadata": {
        "id": "ah9zOVj-g_XG",
        "colab_type": "code",
        "colab": {}
      },
      "source": [
        "# count to 10\n",
        "i=0\n",
        "while (i<=10):\n",
        "  print(i, end=' ')\n",
        "  i += 1;\n",
        "\n",
        "print('\\n')\n",
        "\n",
        "# count to 10\n",
        "for i in range(0,11):\n",
        "  print(i, end=' ')\n"
      ],
      "execution_count": 0,
      "outputs": []
    },
    {
      "cell_type": "markdown",
      "metadata": {
        "id": "jM57KTIfhjOb",
        "colab_type": "text"
      },
      "source": [
        "## Controlling Loops\n",
        "\n",
        "1. break\n",
        "2. continue"
      ]
    },
    {
      "cell_type": "code",
      "metadata": {
        "id": "6pcHdoxqhnU4",
        "colab_type": "code",
        "colab": {}
      },
      "source": [
        "i = 0\n",
        "while (True):\n",
        "  i += 1;\n",
        "\n",
        "  # Use of continue\n",
        "  if ( i==1 ):\n",
        "    print('starting ... ')\n",
        "    print(i, end=' ')\n",
        "    continue ;\n",
        "\n",
        "  print(i, end=' ')\n",
        "\n",
        "  # Use of break\n",
        "  if ( i > 10 ):\n",
        "    print('\\nending.')\n",
        "    break;"
      ],
      "execution_count": 0,
      "outputs": []
    },
    {
      "cell_type": "markdown",
      "metadata": {
        "id": "1W3-BCTan0ZG",
        "colab_type": "text"
      },
      "source": [
        "# Data types\n",
        "\n",
        "\n",
        "1.   List\n",
        "2.   Tuples \n",
        "3.   Dictionary "
      ]
    },
    {
      "cell_type": "markdown",
      "metadata": {
        "id": "hnPA9NyCjfiN",
        "colab_type": "text"
      },
      "source": [
        "## List"
      ]
    },
    {
      "cell_type": "code",
      "metadata": {
        "id": "SkG85P-YobT3",
        "colab_type": "code",
        "colab": {}
      },
      "source": [
        "word_list1 = ['This', 'book', 'is']\n",
        "word_list2 = ['on', 'Machine', 'Intelligence']\n",
        "word_list  = word_list1 + word_list2 ; # list concat\n",
        "word_list.append('.')\n",
        "word_list.sort()\n",
        "word_list.remove('Intelligence')"
      ],
      "execution_count": 0,
      "outputs": []
    },
    {
      "cell_type": "markdown",
      "metadata": {
        "id": "1r4In-DWjkFu",
        "colab_type": "text"
      },
      "source": [
        "## Tuple\n",
        "A sequence of immutable Python objects. Tuples are immutable which means you cannot update or change the values of tuple elements."
      ]
    },
    {
      "cell_type": "code",
      "metadata": {
        "id": "DHnk7LWCjloY",
        "colab_type": "code",
        "colab": {}
      },
      "source": [
        "word_tuple = ('This', 'book', 'is', 'on', 'Machine', 'Intelligence')\n",
        "print(word_tuple[5])"
      ],
      "execution_count": 0,
      "outputs": []
    },
    {
      "cell_type": "markdown",
      "metadata": {
        "id": "ONaz9gHXjl6J",
        "colab_type": "text"
      },
      "source": [
        "## Dictionary"
      ]
    },
    {
      "cell_type": "code",
      "metadata": {
        "id": "KSOb6oKpjpHV",
        "colab_type": "code",
        "colab": {}
      },
      "source": [
        "Book = {'title'  : 'Machine Intelligence in Design Automation',\n",
        "        'Author' : 'Rohit Sharma',\n",
        "\t\t'isbn'   : 9781983974618,\n",
        "\t\t'pages'  : 212,\n",
        "\t\t'date'   : 'March 2018'\n",
        "\t}\n",
        "print(Book['title'])"
      ],
      "execution_count": 0,
      "outputs": []
    },
    {
      "cell_type": "markdown",
      "metadata": {
        "id": "lU9_cn6vjuVR",
        "colab_type": "text"
      },
      "source": [
        "# Functions"
      ]
    },
    {
      "cell_type": "code",
      "metadata": {
        "id": "FDB2D-tUjvzj",
        "colab_type": "code",
        "colab": {}
      },
      "source": [
        "global_str = Book['title']\n",
        "def function_name (arg1, arg2):\n",
        "\tlocal_str = Book['Author']\n",
        "\tprint (global_str + ' by ' + local_str)\n",
        "\treturn arg2*arg1\n",
        "\n",
        "print(function_name('is a unique book.', 1))"
      ],
      "execution_count": 0,
      "outputs": []
    },
    {
      "cell_type": "markdown",
      "metadata": {
        "id": "17JvCRqEjxKt",
        "colab_type": "text"
      },
      "source": [
        "# Slicing"
      ]
    },
    {
      "cell_type": "code",
      "metadata": {
        "id": "0OCcwaTokib5",
        "colab_type": "code",
        "colab": {}
      },
      "source": [
        "global_str[0];   # 'M'\n",
        "global_str[0:7]; # 'Machine'\n",
        "global_str[:20]; # 'Machine Intelligence'\n",
        "global_str[24:]; # 'Design Automation'\\"
      ],
      "execution_count": 0,
      "outputs": []
    },
    {
      "cell_type": "markdown",
      "metadata": {
        "id": "v6smmZmEtUrt",
        "colab_type": "text"
      },
      "source": [
        "# Exercise\n",
        "1. What is the output of string slice global_str[8:]?\n",
        "2. Write a python program to perform element-wise multiplication of two vectors.\n",
        "\n",
        "---\n",
        "[![Linkedin](https://content.linkedin.com/content/dam/brand/site/img/logo/logo-r.png =120x) Join group for discussion on Machine Learning](https://www.linkedin.com/groups/13570295) \n",
        "\n",
        "---"
      ]
    },
    {
      "cell_type": "markdown",
      "metadata": {
        "id": "D3n9BLpQlaTX",
        "colab_type": "text"
      },
      "source": [
        "# Credit:\n",
        "\n",
        "[Machine Intelligence in Design Automation](amzn.to/2paZ53b)\n",
        "\n",
        "---\n",
        "\n",
        "[![Machine Intelligence in Design Automation](https://qph.ec.quoracdn.net/main-qimg-be4b2dd87b0ef610f4fda06b89904bd5)](http://amzn.to/2paZ53b)"
      ]
    }
  ]
}